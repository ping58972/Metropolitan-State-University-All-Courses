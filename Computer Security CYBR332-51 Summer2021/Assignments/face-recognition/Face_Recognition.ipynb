{
 "cells": [
  {
   "cell_type": "code",
   "execution_count": null,
   "source": [
    "from keras.models import Sequential\r\n",
    "from keras.layers import Conv2D, ZeroPadding2D, Activation, Input, concatenate\r\n",
    "from keras.models import Model\r\n",
    "from keras.layers.normalization import BatchNormalization\r\n",
    "from keras.layers.pooling import MaxPooling2D, AveragePooling2D\r\n",
    "from keras.layers.merge import Concatenate\r\n",
    "from keras.layers.core import Lambda, Flatten, Dense\r\n",
    "from keras.initializers import glorot_uniform\r\n",
    "from keras.engine.topology import Layer\r\n",
    "from keras import backend as K\r\n",
    "K.set_image_data_format('channels_first')\r\n",
    "import cv2\r\n",
    "import os\r\n",
    "import numpy as np\r\n",
    "from numpy import genfromtxt\r\n",
    "import pandas as pd\r\n",
    "import tensorflow as tf\r\n",
    "from fr_utils import *\r\n",
    "from inception_blocks_v2 import *\r\n",
    "\r\n",
    "%matplotlib inline\r\n",
    "%load_ext autoreload\r\n",
    "%autoreload 2\r\n",
    "\r\n",
    "np.set_printoptions(threshold=np.nan)"
   ],
   "outputs": [],
   "metadata": {
    "scrolled": false
   }
  },
  {
   "cell_type": "code",
   "execution_count": 2,
   "source": [
    "FRmodel = faceRecoModel(input_shape=(3, 96, 96))"
   ],
   "outputs": [],
   "metadata": {
    "collapsed": true
   }
  },
  {
   "cell_type": "code",
   "execution_count": null,
   "source": [
    "# GRADED FUNCTION: triplet_loss\r\n",
    "\r\n",
    "def triplet_loss(y_true, y_pred, alpha = 0.2):\r\n",
    "    \"\"\"\r\n",
    "    Implementation of the triplet loss as defined by formula (3)\r\n",
    "    \r\n",
    "    Arguments:\r\n",
    "    y_true -- true labels, required when you define a loss in Keras, you don't need it in this function.\r\n",
    "    y_pred -- python list containing three objects:\r\n",
    "            anchor -- the encodings for the anchor images, of shape (None, 128)\r\n",
    "            positive -- the encodings for the positive images, of shape (None, 128)\r\n",
    "            negative -- the encodings for the negative images, of shape (None, 128)\r\n",
    "    \r\n",
    "    Returns:\r\n",
    "    loss -- real number, value of the loss\r\n",
    "    \"\"\"\r\n",
    "    \r\n",
    "    anchor, positive, negative = y_pred[0], y_pred[1], y_pred[2]\r\n",
    "    \r\n",
    "    \r\n",
    "    # Compute the (encoding) distance between the anchor and the positive\r\n",
    "    pos_dist = tf.reduce_sum(tf.square(tf.subtract(anchor, positive)), axis=-1)\r\n",
    "    # Compute the (encoding) distance between the anchor and the negative\r\n",
    "    neg_dist = tf.reduce_sum(tf.square(tf.subtract(anchor, negative)), axis=-1)\r\n",
    "    # subtract the two previous distances and add alpha.\r\n",
    "    basic_loss = tf.add(tf.subtract(pos_dist, neg_dist), alpha)\r\n",
    "    # Take the maximum of basic_loss and 0.0. Sum over the training examples.\r\n",
    "    loss = tf.reduce_sum(tf.maximum(basic_loss, 0.0))\r\n",
    "    ### END CODE HERE ###\r\n",
    "    \r\n",
    "    return loss"
   ],
   "outputs": [],
   "metadata": {
    "collapsed": true
   }
  },
  {
   "cell_type": "code",
   "execution_count": 6,
   "source": [
    "FRmodel.compile(optimizer = 'adam', loss = triplet_loss, metrics = ['accuracy'])\r\n",
    "load_weights_from_FaceNet(FRmodel)"
   ],
   "outputs": [],
   "metadata": {
    "collapsed": true
   }
  },
  {
   "cell_type": "code",
   "execution_count": null,
   "source": [
    "database = {}\r\n",
    "database[\"danielle\"] = img_to_encoding(\"images/danielle.png\", FRmodel)\r\n",
    "database[\"younes\"] = img_to_encoding(\"images/younes.jpg\", FRmodel)\r\n",
    "database[\"tian\"] = img_to_encoding(\"images/tian.jpg\", FRmodel)\r\n",
    "database[\"andrew\"] = img_to_encoding(\"images/andrew.jpg\", FRmodel)\r\n",
    "database[\"kian\"] = img_to_encoding(\"images/kian.jpg\", FRmodel)\r\n",
    "database[\"dan\"] = img_to_encoding(\"images/dan.jpg\", FRmodel)\r\n",
    "database[\"sebastiano\"] = img_to_encoding(\"images/sebastiano.jpg\", FRmodel)\r\n",
    "database[\"bertrand\"] = img_to_encoding(\"images/bertrand.jpg\", FRmodel)\r\n",
    "database[\"kevin\"] = img_to_encoding(\"images/kevin.jpg\", FRmodel)\r\n",
    "database[\"felix\"] = img_to_encoding(\"images/felix.jpg\", FRmodel)\r\n",
    "database[\"benoit\"] = img_to_encoding(\"images/benoit.jpg\", FRmodel)\r\n",
    "database[\"arnaud\"] = img_to_encoding(\"images/arnaud.jpg\", FRmodel)"
   ],
   "outputs": [],
   "metadata": {
    "collapsed": true
   }
  },
  {
   "cell_type": "code",
   "execution_count": 8,
   "source": [
    "# GRADED FUNCTION: verify\r\n",
    "\r\n",
    "def verify(image_path, identity, database, model):\r\n",
    "    \"\"\"\r\n",
    "    Function that verifies if the person on the \"image_path\" image is \"identity\".\r\n",
    "    \r\n",
    "    Arguments:\r\n",
    "    image_path -- path to an image\r\n",
    "    identity -- string, name of the person you'd like to verify the identity. Has to be an employee who works in the office.\r\n",
    "    database -- python dictionary mapping names of allowed people's names (strings) to their encodings (vectors).\r\n",
    "    model -- your Inception model instance in Keras\r\n",
    "    \r\n",
    "    Returns:\r\n",
    "    dist -- distance between the image_path and the image of \"identity\" in the database.\r\n",
    "    door_open -- True, if the door should open. False otherwise.\r\n",
    "    \"\"\"\r\n",
    "    \r\n",
    " \r\n",
    "    \r\n",
    "    # Compute the encoding for the image. Use img_to_encoding() \r\n",
    "    encoding = img_to_encoding(image_path, model)\r\n",
    "    \r\n",
    "    # Compute distance with identity's image \r\n",
    "    dist = np.linalg.norm(encoding - database[identity]) \r\n",
    "    \r\n",
    "    # Open the door if dist < 0.7, else don't open \r\n",
    "    if dist < 0.7 :\r\n",
    "        print(\"It's \" + str(identity) + \", welcome in!\")\r\n",
    "        door_open = True\r\n",
    "    else:\r\n",
    "        print(\"It's not \" + str(identity) + \", please go away\")\r\n",
    "        door_open = False\r\n",
    "        \r\n",
    "    ### END CODE HERE ###\r\n",
    "        \r\n",
    "    return dist, door_open"
   ],
   "outputs": [],
   "metadata": {
    "collapsed": true
   }
  },
  {
   "cell_type": "code",
   "execution_count": 9,
   "source": [
    "verify(\"images/camera_0.jpg\", \"younes\", database, FRmodel)"
   ],
   "outputs": [
    {
     "output_type": "stream",
     "name": "stdout",
     "text": [
      "It's younes, welcome in!\n"
     ]
    },
    {
     "output_type": "execute_result",
     "data": {
      "text/plain": [
       "(0.65939289, True)"
      ]
     },
     "metadata": {},
     "execution_count": 9
    }
   ],
   "metadata": {
    "scrolled": true
   }
  },
  {
   "cell_type": "code",
   "execution_count": 10,
   "source": [
    "verify(\"images/camera_2.jpg\", \"kian\", database, FRmodel)"
   ],
   "outputs": [
    {
     "output_type": "stream",
     "name": "stdout",
     "text": [
      "It's not kian, please go away\n"
     ]
    },
    {
     "output_type": "execute_result",
     "data": {
      "text/plain": [
       "(0.86224014, False)"
      ]
     },
     "metadata": {},
     "execution_count": 10
    }
   ],
   "metadata": {}
  },
  {
   "cell_type": "code",
   "execution_count": 11,
   "source": [
    "# GRADED FUNCTION: who_is_it\r\n",
    "\r\n",
    "def who_is_it(image_path, database, model):\r\n",
    "    \"\"\"\r\n",
    "    Implements face recognition for the office by finding who is the person on the image_path image.\r\n",
    "    \r\n",
    "    Arguments:\r\n",
    "    image_path -- path to an image\r\n",
    "    database -- database containing image encodings along with the name of the person on the image\r\n",
    "    model -- your Inception model instance in Keras\r\n",
    "    \r\n",
    "    Returns:\r\n",
    "    min_dist -- the minimum distance between image_path encoding and the encodings from the database\r\n",
    "    identity -- string, the name prediction for the person on image_path\r\n",
    "    \"\"\"\r\n",
    "    \r\n",
    "\r\n",
    "    \r\n",
    "    ##  Compute the target \"encoding\" for the image. Use img_to_encoding() see example above. ## (≈ 1 line)\r\n",
    "    encoding = img_to_encoding(image_path, model)\r\n",
    "    \r\n",
    "    ## Find the closest encoding ##\r\n",
    "    \r\n",
    "    # Initialize \"min_dist\" to a large value, say 100 \r\n",
    "    min_dist = 100\r\n",
    "    \r\n",
    "    # Loop over the database dictionary's names and encodings.\r\n",
    "    for (name, db_enc) in database.items():\r\n",
    "        \r\n",
    "        # Compute L2 distance between the target \"encoding\" and the current db_enc from the database. (≈ 1 line)\r\n",
    "        dist = np.linalg.norm(encoding - db_enc)\r\n",
    "\r\n",
    "        # If this distance is less than the min_dist, then set min_dist to dist, and identity to name. (≈ 3 lines)\r\n",
    "        if dist < min_dist:\r\n",
    "            min_dist = dist\r\n",
    "            identity = name\r\n",
    "\r\n",
    "    ### END CODE HERE ###\r\n",
    "    \r\n",
    "    if min_dist > 0.7:\r\n",
    "        print(\"Not in the database.\")\r\n",
    "    else:\r\n",
    "        print (\"it's \" + str(identity) + \", the distance is \" + str(min_dist))\r\n",
    "        \r\n",
    "    return min_dist, identity"
   ],
   "outputs": [],
   "metadata": {
    "collapsed": true
   }
  },
  {
   "cell_type": "code",
   "execution_count": 12,
   "source": [
    "who_is_it(\"images/camera_0.jpg\", database, FRmodel)"
   ],
   "outputs": [
    {
     "output_type": "stream",
     "name": "stdout",
     "text": [
      "it's younes, the distance is 0.659393\n"
     ]
    },
    {
     "output_type": "execute_result",
     "data": {
      "text/plain": [
       "(0.65939289, 'younes')"
      ]
     },
     "metadata": {},
     "execution_count": 12
    }
   ],
   "metadata": {
    "scrolled": false
   }
  }
 ],
 "metadata": {
  "coursera": {
   "course_slug": "convolutional-neural-networks",
   "graded_item_id": "IaknP",
   "launcher_item_id": "5UMr4"
  },
  "interpreter": {
   "hash": "b3ba2566441a7c06988d0923437866b63cedc61552a5af99d1f4fb67d367b25f"
  },
  "kernelspec": {
   "display_name": "Python 3",
   "language": "python",
   "name": "python3"
  },
  "language_info": {
   "codemirror_mode": {
    "name": "ipython",
    "version": 3
   },
   "file_extension": ".py",
   "mimetype": "text/x-python",
   "name": "python",
   "nbconvert_exporter": "python",
   "pygments_lexer": "ipython3",
   "version": "3.7.2"
  }
 },
 "nbformat": 4,
 "nbformat_minor": 2
}